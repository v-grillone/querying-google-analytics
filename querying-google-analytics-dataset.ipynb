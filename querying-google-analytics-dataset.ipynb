{
 "cells": [
  {
   "cell_type": "code",
   "execution_count": 1,
   "metadata": {
    "_cell_guid": "b1076dfc-b9ad-4769-8c92-a6c4dae69d19",
    "_uuid": "8f2839f25d086af736a60e9eeb907d3b93b6e0e5"
   },
   "outputs": [],
   "source": [
    "import numpy as np\n",
    "import pandas as pd \n",
    "import matplotlib.pyplot as plt\n",
    "import seaborn as sns\n",
    "sns.set()\n",
    "\n",
    "from google.cloud import bigquery"
   ]
  },
  {
   "cell_type": "markdown",
   "metadata": {},
   "source": [
    "#### Retrieving Dataset"
   ]
  },
  {
   "cell_type": "code",
   "execution_count": 2,
   "metadata": {
    "_cell_guid": "79c7e3d0-c299-4dcb-8224-4455121ee9b0",
    "_uuid": "d629ff2d2480ee46fbb7e2d37f6b5fab8052498a"
   },
   "outputs": [
    {
     "name": "stdout",
     "output_type": "stream",
     "text": [
      "Using Kaggle's public dataset BigQuery integration.\n"
     ]
    }
   ],
   "source": [
    "client = bigquery.Client()\n",
    "\n",
    "dataset_ref = client.dataset('google_analytics_sample', project='bigquery-public-data')\n",
    "\n",
    "dataset = client.get_dataset(dataset_ref)"
   ]
  },
  {
   "cell_type": "markdown",
   "metadata": {},
   "source": [
    "#### Viewing Tables"
   ]
  },
  {
   "cell_type": "code",
   "execution_count": 3,
   "metadata": {},
   "outputs": [
    {
     "name": "stdout",
     "output_type": "stream",
     "text": [
      "['ga_sessions_20160801', 'ga_sessions_20160802', 'ga_sessions_20160803', 'ga_sessions_20160804', 'ga_sessions_20160805', 'ga_sessions_20160806', 'ga_sessions_20160807', 'ga_sessions_20160808', 'ga_sessions_20160809', 'ga_sessions_20160810', 'ga_sessions_20160811', 'ga_sessions_20160812', 'ga_sessions_20160813', 'ga_sessions_20160814', 'ga_sessions_20160815', 'ga_sessions_20160816', 'ga_sessions_20160817', 'ga_sessions_20160818', 'ga_sessions_20160819', 'ga_sessions_20160820', 'ga_sessions_20160821', 'ga_sessions_20160822', 'ga_sessions_20160823', 'ga_sessions_20160824', 'ga_sessions_20160825', 'ga_sessions_20160826', 'ga_sessions_20160827', 'ga_sessions_20160828', 'ga_sessions_20160829', 'ga_sessions_20160830', 'ga_sessions_20160831', 'ga_sessions_20160901', 'ga_sessions_20160902', 'ga_sessions_20160903', 'ga_sessions_20160904', 'ga_sessions_20160905', 'ga_sessions_20160906', 'ga_sessions_20160907', 'ga_sessions_20160908', 'ga_sessions_20160909', 'ga_sessions_20160910', 'ga_sessions_20160911', 'ga_sessions_20160912', 'ga_sessions_20160913', 'ga_sessions_20160914', 'ga_sessions_20160915', 'ga_sessions_20160916', 'ga_sessions_20160917', 'ga_sessions_20160918', 'ga_sessions_20160919', 'ga_sessions_20160920', 'ga_sessions_20160921', 'ga_sessions_20160922', 'ga_sessions_20160923', 'ga_sessions_20160924', 'ga_sessions_20160925', 'ga_sessions_20160926', 'ga_sessions_20160927', 'ga_sessions_20160928', 'ga_sessions_20160929', 'ga_sessions_20160930', 'ga_sessions_20161001', 'ga_sessions_20161002', 'ga_sessions_20161003', 'ga_sessions_20161004', 'ga_sessions_20161005', 'ga_sessions_20161006', 'ga_sessions_20161007', 'ga_sessions_20161008', 'ga_sessions_20161009', 'ga_sessions_20161010', 'ga_sessions_20161011', 'ga_sessions_20161012', 'ga_sessions_20161013', 'ga_sessions_20161014', 'ga_sessions_20161015', 'ga_sessions_20161016', 'ga_sessions_20161017', 'ga_sessions_20161018', 'ga_sessions_20161019', 'ga_sessions_20161020', 'ga_sessions_20161021', 'ga_sessions_20161022', 'ga_sessions_20161023', 'ga_sessions_20161024', 'ga_sessions_20161025', 'ga_sessions_20161026', 'ga_sessions_20161027', 'ga_sessions_20161028', 'ga_sessions_20161029', 'ga_sessions_20161030', 'ga_sessions_20161031', 'ga_sessions_20161101', 'ga_sessions_20161102', 'ga_sessions_20161103', 'ga_sessions_20161104', 'ga_sessions_20161105', 'ga_sessions_20161106', 'ga_sessions_20161107', 'ga_sessions_20161108', 'ga_sessions_20161109', 'ga_sessions_20161110', 'ga_sessions_20161111', 'ga_sessions_20161112', 'ga_sessions_20161113', 'ga_sessions_20161114', 'ga_sessions_20161115', 'ga_sessions_20161116', 'ga_sessions_20161117', 'ga_sessions_20161118', 'ga_sessions_20161119', 'ga_sessions_20161120', 'ga_sessions_20161121', 'ga_sessions_20161122', 'ga_sessions_20161123', 'ga_sessions_20161124', 'ga_sessions_20161125', 'ga_sessions_20161126', 'ga_sessions_20161127', 'ga_sessions_20161128', 'ga_sessions_20161129', 'ga_sessions_20161130', 'ga_sessions_20161201', 'ga_sessions_20161202', 'ga_sessions_20161203', 'ga_sessions_20161204', 'ga_sessions_20161205', 'ga_sessions_20161206', 'ga_sessions_20161207', 'ga_sessions_20161208', 'ga_sessions_20161209', 'ga_sessions_20161210', 'ga_sessions_20161211', 'ga_sessions_20161212', 'ga_sessions_20161213', 'ga_sessions_20161214', 'ga_sessions_20161215', 'ga_sessions_20161216', 'ga_sessions_20161217', 'ga_sessions_20161218', 'ga_sessions_20161219', 'ga_sessions_20161220', 'ga_sessions_20161221', 'ga_sessions_20161222', 'ga_sessions_20161223', 'ga_sessions_20161224', 'ga_sessions_20161225', 'ga_sessions_20161226', 'ga_sessions_20161227', 'ga_sessions_20161228', 'ga_sessions_20161229', 'ga_sessions_20161230', 'ga_sessions_20161231', 'ga_sessions_20170101', 'ga_sessions_20170102', 'ga_sessions_20170103', 'ga_sessions_20170104', 'ga_sessions_20170105', 'ga_sessions_20170106', 'ga_sessions_20170107', 'ga_sessions_20170108', 'ga_sessions_20170109', 'ga_sessions_20170110', 'ga_sessions_20170111', 'ga_sessions_20170112', 'ga_sessions_20170113', 'ga_sessions_20170114', 'ga_sessions_20170115', 'ga_sessions_20170116', 'ga_sessions_20170117', 'ga_sessions_20170118', 'ga_sessions_20170119', 'ga_sessions_20170120', 'ga_sessions_20170121', 'ga_sessions_20170122', 'ga_sessions_20170123', 'ga_sessions_20170124', 'ga_sessions_20170125', 'ga_sessions_20170126', 'ga_sessions_20170127', 'ga_sessions_20170128', 'ga_sessions_20170129', 'ga_sessions_20170130', 'ga_sessions_20170131', 'ga_sessions_20170201', 'ga_sessions_20170202', 'ga_sessions_20170203', 'ga_sessions_20170204', 'ga_sessions_20170205', 'ga_sessions_20170206', 'ga_sessions_20170207', 'ga_sessions_20170208', 'ga_sessions_20170209', 'ga_sessions_20170210', 'ga_sessions_20170211', 'ga_sessions_20170212', 'ga_sessions_20170213', 'ga_sessions_20170214', 'ga_sessions_20170215', 'ga_sessions_20170216', 'ga_sessions_20170217', 'ga_sessions_20170218', 'ga_sessions_20170219', 'ga_sessions_20170220', 'ga_sessions_20170221', 'ga_sessions_20170222', 'ga_sessions_20170223', 'ga_sessions_20170224', 'ga_sessions_20170225', 'ga_sessions_20170226', 'ga_sessions_20170227', 'ga_sessions_20170228', 'ga_sessions_20170301', 'ga_sessions_20170302', 'ga_sessions_20170303', 'ga_sessions_20170304', 'ga_sessions_20170305', 'ga_sessions_20170306', 'ga_sessions_20170307', 'ga_sessions_20170308', 'ga_sessions_20170309', 'ga_sessions_20170310', 'ga_sessions_20170311', 'ga_sessions_20170312', 'ga_sessions_20170313', 'ga_sessions_20170314', 'ga_sessions_20170315', 'ga_sessions_20170316', 'ga_sessions_20170317', 'ga_sessions_20170318', 'ga_sessions_20170319', 'ga_sessions_20170320', 'ga_sessions_20170321', 'ga_sessions_20170322', 'ga_sessions_20170323', 'ga_sessions_20170324', 'ga_sessions_20170325', 'ga_sessions_20170326', 'ga_sessions_20170327', 'ga_sessions_20170328', 'ga_sessions_20170329', 'ga_sessions_20170330', 'ga_sessions_20170331', 'ga_sessions_20170401', 'ga_sessions_20170402', 'ga_sessions_20170403', 'ga_sessions_20170404', 'ga_sessions_20170405', 'ga_sessions_20170406', 'ga_sessions_20170407', 'ga_sessions_20170408', 'ga_sessions_20170409', 'ga_sessions_20170410', 'ga_sessions_20170411', 'ga_sessions_20170412', 'ga_sessions_20170413', 'ga_sessions_20170414', 'ga_sessions_20170415', 'ga_sessions_20170416', 'ga_sessions_20170417', 'ga_sessions_20170418', 'ga_sessions_20170419', 'ga_sessions_20170420', 'ga_sessions_20170421', 'ga_sessions_20170422', 'ga_sessions_20170423', 'ga_sessions_20170424', 'ga_sessions_20170425', 'ga_sessions_20170426', 'ga_sessions_20170427', 'ga_sessions_20170428', 'ga_sessions_20170429', 'ga_sessions_20170430', 'ga_sessions_20170501', 'ga_sessions_20170502', 'ga_sessions_20170503', 'ga_sessions_20170504', 'ga_sessions_20170505', 'ga_sessions_20170506', 'ga_sessions_20170507', 'ga_sessions_20170508', 'ga_sessions_20170509', 'ga_sessions_20170510', 'ga_sessions_20170511', 'ga_sessions_20170512', 'ga_sessions_20170513', 'ga_sessions_20170514', 'ga_sessions_20170515', 'ga_sessions_20170516', 'ga_sessions_20170517', 'ga_sessions_20170518', 'ga_sessions_20170519', 'ga_sessions_20170520', 'ga_sessions_20170521', 'ga_sessions_20170522', 'ga_sessions_20170523', 'ga_sessions_20170524', 'ga_sessions_20170525', 'ga_sessions_20170526', 'ga_sessions_20170527', 'ga_sessions_20170528', 'ga_sessions_20170529', 'ga_sessions_20170530', 'ga_sessions_20170531', 'ga_sessions_20170601', 'ga_sessions_20170602', 'ga_sessions_20170603', 'ga_sessions_20170604', 'ga_sessions_20170605', 'ga_sessions_20170606', 'ga_sessions_20170607', 'ga_sessions_20170608', 'ga_sessions_20170609', 'ga_sessions_20170610', 'ga_sessions_20170611', 'ga_sessions_20170612', 'ga_sessions_20170613', 'ga_sessions_20170614', 'ga_sessions_20170615', 'ga_sessions_20170616', 'ga_sessions_20170617', 'ga_sessions_20170618', 'ga_sessions_20170619', 'ga_sessions_20170620', 'ga_sessions_20170621', 'ga_sessions_20170622', 'ga_sessions_20170623', 'ga_sessions_20170624', 'ga_sessions_20170625', 'ga_sessions_20170626', 'ga_sessions_20170627', 'ga_sessions_20170628', 'ga_sessions_20170629', 'ga_sessions_20170630', 'ga_sessions_20170701', 'ga_sessions_20170702', 'ga_sessions_20170703', 'ga_sessions_20170704', 'ga_sessions_20170705', 'ga_sessions_20170706', 'ga_sessions_20170707', 'ga_sessions_20170708', 'ga_sessions_20170709', 'ga_sessions_20170710', 'ga_sessions_20170711', 'ga_sessions_20170712', 'ga_sessions_20170713', 'ga_sessions_20170714', 'ga_sessions_20170715', 'ga_sessions_20170716', 'ga_sessions_20170717', 'ga_sessions_20170718', 'ga_sessions_20170719', 'ga_sessions_20170720', 'ga_sessions_20170721', 'ga_sessions_20170722', 'ga_sessions_20170723', 'ga_sessions_20170724', 'ga_sessions_20170725', 'ga_sessions_20170726', 'ga_sessions_20170727', 'ga_sessions_20170728', 'ga_sessions_20170729', 'ga_sessions_20170730', 'ga_sessions_20170731', 'ga_sessions_20170801']\n"
     ]
    }
   ],
   "source": [
    "tables = list(client.list_tables(dataset))\n",
    "\n",
    "list_of_tables = [table.table_id for table in tables]\n",
    "\n",
    "print(list_of_tables)"
   ]
  },
  {
   "cell_type": "markdown",
   "metadata": {},
   "source": [
    "#### Viewing columns inside the last table"
   ]
  },
  {
   "cell_type": "code",
   "execution_count": 4,
   "metadata": {},
   "outputs": [
    {
     "data": {
      "text/html": [
       "<div>\n",
       "<style scoped>\n",
       "    .dataframe tbody tr th:only-of-type {\n",
       "        vertical-align: middle;\n",
       "    }\n",
       "\n",
       "    .dataframe tbody tr th {\n",
       "        vertical-align: top;\n",
       "    }\n",
       "\n",
       "    .dataframe thead th {\n",
       "        text-align: right;\n",
       "    }\n",
       "</style>\n",
       "<table border=\"1\" class=\"dataframe\">\n",
       "  <thead>\n",
       "    <tr style=\"text-align: right;\">\n",
       "      <th></th>\n",
       "      <th>visitorId</th>\n",
       "      <th>visitNumber</th>\n",
       "      <th>visitId</th>\n",
       "      <th>visitStartTime</th>\n",
       "      <th>date</th>\n",
       "      <th>totals</th>\n",
       "      <th>trafficSource</th>\n",
       "      <th>device</th>\n",
       "      <th>geoNetwork</th>\n",
       "      <th>customDimensions</th>\n",
       "      <th>hits</th>\n",
       "      <th>fullVisitorId</th>\n",
       "      <th>userId</th>\n",
       "      <th>clientId</th>\n",
       "      <th>channelGrouping</th>\n",
       "      <th>socialEngagementType</th>\n",
       "    </tr>\n",
       "  </thead>\n",
       "  <tbody>\n",
       "    <tr>\n",
       "      <th>0</th>\n",
       "      <td>None</td>\n",
       "      <td>1</td>\n",
       "      <td>1501583974</td>\n",
       "      <td>1501583974</td>\n",
       "      <td>20170801</td>\n",
       "      <td>{'visits': 1, 'hits': 1, 'pageviews': 1, 'time...</td>\n",
       "      <td>{'referralPath': None, 'campaign': '(not set)'...</td>\n",
       "      <td>{'browser': 'Chrome', 'browserVersion': 'not a...</td>\n",
       "      <td>{'continent': 'Americas', 'subContinent': 'Car...</td>\n",
       "      <td>[]</td>\n",
       "      <td>[{'hitNumber': 1, 'time': 0, 'hour': 3, 'minut...</td>\n",
       "      <td>2248281639583218707</td>\n",
       "      <td>None</td>\n",
       "      <td>None</td>\n",
       "      <td>Organic Search</td>\n",
       "      <td>Not Socially Engaged</td>\n",
       "    </tr>\n",
       "    <tr>\n",
       "      <th>1</th>\n",
       "      <td>None</td>\n",
       "      <td>1</td>\n",
       "      <td>1501616585</td>\n",
       "      <td>1501616585</td>\n",
       "      <td>20170801</td>\n",
       "      <td>{'visits': 1, 'hits': 1, 'pageviews': 1, 'time...</td>\n",
       "      <td>{'referralPath': None, 'campaign': '(not set)'...</td>\n",
       "      <td>{'browser': 'Chrome', 'browserVersion': 'not a...</td>\n",
       "      <td>{'continent': 'Americas', 'subContinent': 'Nor...</td>\n",
       "      <td>[{'index': 4, 'value': 'North America'}]</td>\n",
       "      <td>[{'hitNumber': 1, 'time': 0, 'hour': 12, 'minu...</td>\n",
       "      <td>8647436381089107732</td>\n",
       "      <td>None</td>\n",
       "      <td>None</td>\n",
       "      <td>Organic Search</td>\n",
       "      <td>Not Socially Engaged</td>\n",
       "    </tr>\n",
       "    <tr>\n",
       "      <th>2</th>\n",
       "      <td>None</td>\n",
       "      <td>1</td>\n",
       "      <td>1501583344</td>\n",
       "      <td>1501583344</td>\n",
       "      <td>20170801</td>\n",
       "      <td>{'visits': 1, 'hits': 1, 'pageviews': 1, 'time...</td>\n",
       "      <td>{'referralPath': None, 'campaign': '(not set)'...</td>\n",
       "      <td>{'browser': 'Chrome', 'browserVersion': 'not a...</td>\n",
       "      <td>{'continent': 'Asia', 'subContinent': 'Souther...</td>\n",
       "      <td>[{'index': 4, 'value': 'APAC'}]</td>\n",
       "      <td>[{'hitNumber': 1, 'time': 0, 'hour': 3, 'minut...</td>\n",
       "      <td>2055839700856389632</td>\n",
       "      <td>None</td>\n",
       "      <td>None</td>\n",
       "      <td>Organic Search</td>\n",
       "      <td>Not Socially Engaged</td>\n",
       "    </tr>\n",
       "    <tr>\n",
       "      <th>3</th>\n",
       "      <td>None</td>\n",
       "      <td>1</td>\n",
       "      <td>1501573386</td>\n",
       "      <td>1501573386</td>\n",
       "      <td>20170801</td>\n",
       "      <td>{'visits': 1, 'hits': 1, 'pageviews': 1, 'time...</td>\n",
       "      <td>{'referralPath': None, 'campaign': '(not set)'...</td>\n",
       "      <td>{'browser': 'Chrome', 'browserVersion': 'not a...</td>\n",
       "      <td>{'continent': 'Europe', 'subContinent': 'Weste...</td>\n",
       "      <td>[{'index': 4, 'value': 'EMEA'}]</td>\n",
       "      <td>[{'hitNumber': 1, 'time': 0, 'hour': 0, 'minut...</td>\n",
       "      <td>0750846065342433129</td>\n",
       "      <td>None</td>\n",
       "      <td>None</td>\n",
       "      <td>Direct</td>\n",
       "      <td>Not Socially Engaged</td>\n",
       "    </tr>\n",
       "    <tr>\n",
       "      <th>4</th>\n",
       "      <td>None</td>\n",
       "      <td>8</td>\n",
       "      <td>1501651467</td>\n",
       "      <td>1501651467</td>\n",
       "      <td>20170801</td>\n",
       "      <td>{'visits': 1, 'hits': 1, 'pageviews': 1, 'time...</td>\n",
       "      <td>{'referralPath': None, 'campaign': '(not set)'...</td>\n",
       "      <td>{'browser': 'Chrome', 'browserVersion': 'not a...</td>\n",
       "      <td>{'continent': 'Americas', 'subContinent': 'Nor...</td>\n",
       "      <td>[{'index': 4, 'value': 'North America'}]</td>\n",
       "      <td>[{'hitNumber': 1, 'time': 0, 'hour': 22, 'minu...</td>\n",
       "      <td>0573427169410921198</td>\n",
       "      <td>None</td>\n",
       "      <td>None</td>\n",
       "      <td>Organic Search</td>\n",
       "      <td>Not Socially Engaged</td>\n",
       "    </tr>\n",
       "  </tbody>\n",
       "</table>\n",
       "</div>"
      ],
      "text/plain": [
       "  visitorId  visitNumber     visitId  visitStartTime      date  \\\n",
       "0      None            1  1501583974      1501583974  20170801   \n",
       "1      None            1  1501616585      1501616585  20170801   \n",
       "2      None            1  1501583344      1501583344  20170801   \n",
       "3      None            1  1501573386      1501573386  20170801   \n",
       "4      None            8  1501651467      1501651467  20170801   \n",
       "\n",
       "                                              totals  \\\n",
       "0  {'visits': 1, 'hits': 1, 'pageviews': 1, 'time...   \n",
       "1  {'visits': 1, 'hits': 1, 'pageviews': 1, 'time...   \n",
       "2  {'visits': 1, 'hits': 1, 'pageviews': 1, 'time...   \n",
       "3  {'visits': 1, 'hits': 1, 'pageviews': 1, 'time...   \n",
       "4  {'visits': 1, 'hits': 1, 'pageviews': 1, 'time...   \n",
       "\n",
       "                                       trafficSource  \\\n",
       "0  {'referralPath': None, 'campaign': '(not set)'...   \n",
       "1  {'referralPath': None, 'campaign': '(not set)'...   \n",
       "2  {'referralPath': None, 'campaign': '(not set)'...   \n",
       "3  {'referralPath': None, 'campaign': '(not set)'...   \n",
       "4  {'referralPath': None, 'campaign': '(not set)'...   \n",
       "\n",
       "                                              device  \\\n",
       "0  {'browser': 'Chrome', 'browserVersion': 'not a...   \n",
       "1  {'browser': 'Chrome', 'browserVersion': 'not a...   \n",
       "2  {'browser': 'Chrome', 'browserVersion': 'not a...   \n",
       "3  {'browser': 'Chrome', 'browserVersion': 'not a...   \n",
       "4  {'browser': 'Chrome', 'browserVersion': 'not a...   \n",
       "\n",
       "                                          geoNetwork  \\\n",
       "0  {'continent': 'Americas', 'subContinent': 'Car...   \n",
       "1  {'continent': 'Americas', 'subContinent': 'Nor...   \n",
       "2  {'continent': 'Asia', 'subContinent': 'Souther...   \n",
       "3  {'continent': 'Europe', 'subContinent': 'Weste...   \n",
       "4  {'continent': 'Americas', 'subContinent': 'Nor...   \n",
       "\n",
       "                           customDimensions  \\\n",
       "0                                        []   \n",
       "1  [{'index': 4, 'value': 'North America'}]   \n",
       "2           [{'index': 4, 'value': 'APAC'}]   \n",
       "3           [{'index': 4, 'value': 'EMEA'}]   \n",
       "4  [{'index': 4, 'value': 'North America'}]   \n",
       "\n",
       "                                                hits        fullVisitorId  \\\n",
       "0  [{'hitNumber': 1, 'time': 0, 'hour': 3, 'minut...  2248281639583218707   \n",
       "1  [{'hitNumber': 1, 'time': 0, 'hour': 12, 'minu...  8647436381089107732   \n",
       "2  [{'hitNumber': 1, 'time': 0, 'hour': 3, 'minut...  2055839700856389632   \n",
       "3  [{'hitNumber': 1, 'time': 0, 'hour': 0, 'minut...  0750846065342433129   \n",
       "4  [{'hitNumber': 1, 'time': 0, 'hour': 22, 'minu...  0573427169410921198   \n",
       "\n",
       "  userId clientId channelGrouping  socialEngagementType  \n",
       "0   None     None  Organic Search  Not Socially Engaged  \n",
       "1   None     None  Organic Search  Not Socially Engaged  \n",
       "2   None     None  Organic Search  Not Socially Engaged  \n",
       "3   None     None          Direct  Not Socially Engaged  \n",
       "4   None     None  Organic Search  Not Socially Engaged  "
      ]
     },
     "execution_count": 4,
     "metadata": {},
     "output_type": "execute_result"
    }
   ],
   "source": [
    "last_table_ref = dataset_ref.table('ga_sessions_20170801')\n",
    "\n",
    "last_table = client.get_table(last_table_ref)\n",
    "\n",
    "client.list_rows(last_table, max_results=5).to_dataframe()"
   ]
  },
  {
   "cell_type": "markdown",
   "metadata": {},
   "source": [
    "#### First Query: Finding total hits for 2017-08-01"
   ]
  },
  {
   "cell_type": "code",
   "execution_count": 5,
   "metadata": {},
   "outputs": [
    {
     "name": "stdout",
     "output_type": "stream",
     "text": [
      "       date  hits\n",
      "0  20170801  2556\n"
     ]
    }
   ],
   "source": [
    "q1 = '''\n",
    "     SELECT date, COUNT(hits) AS hits\n",
    "     FROM `bigquery-public-data.google_analytics_sample.ga_sessions_20170801`\n",
    "     GROUP BY date\n",
    "     '''\n",
    "\n",
    "safe_config = bigquery.QueryJobConfig(maximum_bytes_billed=10**10)\n",
    "q1_job = client.query(q1, job_config=safe_config)\n",
    "\n",
    "q1_results = q1_job.to_dataframe()\n",
    "\n",
    "print(q1_results)"
   ]
  },
  {
   "cell_type": "markdown",
   "metadata": {},
   "source": [
    "#### Second Query: Visits per Continent"
   ]
  },
  {
   "cell_type": "code",
   "execution_count": 6,
   "metadata": {},
   "outputs": [],
   "source": [
    "q2 = '''\n",
    "     SELECT geoNetwork AS place\n",
    "     FROM `bigquery-public-data.google_analytics_sample.ga_sessions_20170801`\n",
    "     '''\n",
    "\n",
    "safe_config = bigquery.QueryJobConfig(maximum_bytes_billed=10**10)\n",
    "q2_job = client.query(q2, job_config=safe_config)\n",
    "\n",
    "q2_results = q2_job.to_dataframe()\n",
    "\n",
    "continent_lst = []\n",
    "for x in q2_results['place']:\n",
    "    x = x['continent']\n",
    "    continent_lst.append(x)\n",
    "q2_results['continents'] = continent_lst\n",
    "\n",
    "continent_count = {'Americas': 0, 'Asia': 0, 'Europe': 0, 'Oceania': 0, 'Africa': 0}\n",
    "for continent in q2_results['continents']:\n",
    "    if continent == 'Americas':\n",
    "        continent_count['Americas'] += 1\n",
    "    if continent == 'Asia':\n",
    "        continent_count['Asia'] += 1\n",
    "    if continent == 'Europe':\n",
    "        continent_count['Europe'] += 1\n",
    "    if continent == 'Oceania':\n",
    "        continent_count['Oceania'] += 1\n",
    "    if continent == 'Africa':\n",
    "        continent_count['Africa'] += 1\n",
    "    "
   ]
  },
  {
   "cell_type": "code",
   "execution_count": 7,
   "metadata": {
    "_kg_hide-input": true
   },
   "outputs": [
    {
     "data": {
      "image/png": "[encoded data removed]",
      "text/plain": [
       "<Figure size 360x360 with 1 Axes>"
      ]
     },
     "metadata": {},
     "output_type": "display_data"
    }
   ],
   "source": [
    "labels = continent_count.keys()\n",
    "data = continent_count.values()\n",
    "explode = (0.05, 0, 0,0,0)\n",
    "\n",
    "plt.figure(figsize=(5,5))\n",
    "plt.pie(data, labels=labels, explode=explode, autopct='%1.1f%%', startangle=55)\n",
    "plt.title('Visits per Continent')\n",
    "plt.axis('equal') \n",
    "\n",
    "plt.show()"
   ]
  },
  {
   "cell_type": "markdown",
   "metadata": {},
   "source": [
    "#### Third Query: 2-day channel comparison "
   ]
  },
  {
   "cell_type": "code",
   "execution_count": 8,
   "metadata": {},
   "outputs": [
    {
     "name": "stdout",
     "output_type": "stream",
     "text": [
      "        date         channel  total\n",
      "0   20170731  Organic Search   1389\n",
      "1   20170731          Direct    441\n",
      "2   20170731        Referral    418\n",
      "3   20170731         Display     43\n",
      "4   20170731     Paid Search     72\n",
      "5   20170731      Affiliates     42\n",
      "6   20170731          Social    215\n",
      "7   20170801  Organic Search   1346\n",
      "8   20170801          Direct    400\n",
      "9   20170801        Referral    436\n",
      "10  20170801     Paid Search     70\n",
      "11  20170801         Display     39\n",
      "12  20170801      Affiliates     52\n",
      "13  20170801          Social    213\n"
     ]
    }
   ],
   "source": [
    "q3 = '''\n",
    "     SELECT date, a.channelGrouping AS channel, COUNT(a.channelGrouping) AS total\n",
    "     FROM `bigquery-public-data.google_analytics_sample.ga_sessions_20170801` AS a\n",
    "     GROUP BY date, a.channelGrouping\n",
    "     UNION ALL\n",
    "     SELECT date, b.channelGrouping AS channel, COUNT(b.channelGrouping) AS total\n",
    "     FROM `bigquery-public-data.google_analytics_sample.ga_sessions_20170731` AS b\n",
    "     GROUP BY date, b.channelGrouping\n",
    "     '''\n",
    "\n",
    "safe_config = bigquery.QueryJobConfig(maximum_bytes_billed=10**10)\n",
    "q3_job = client.query(q3, job_config=safe_config)\n",
    "\n",
    "q3_results = q3_job.to_dataframe()\n",
    "\n",
    "print(q3_results)"
   ]
  },
  {
   "cell_type": "code",
   "execution_count": 9,
   "metadata": {
    "_kg_hide-input": true
   },
   "outputs": [
    {
     "data": {
      "image/png": "[encoded data removed]",
      "text/plain": [
       "<Figure size 432x288 with 1 Axes>"
      ]
     },
     "metadata": {
      "needs_background": "light"
     },
     "output_type": "display_data"
    }
   ],
   "source": [
    "day1_lst = []\n",
    "for x in q3_results['total'][0:7]:\n",
    "    day1_lst.append(x)\n",
    "    \n",
    "day2_lst = []\n",
    "for x in q3_results['total'][7:14]:\n",
    "    day2_lst.append(x)    \n",
    "    \n",
    "N = 7\n",
    "ind = np.arange(N)\n",
    "width = 0.35\n",
    "\n",
    "fig, ax = plt.subplots()\n",
    "\n",
    "day1_bars = ax.bar(ind, day1_lst, width)\n",
    "day2_bars = ax.bar(ind + width, day2_lst, width)\n",
    "\n",
    "ax.set_ylabel('Total')\n",
    "ax.set_title('2-Day Channel Comparison')\n",
    "ax.set_xticks(ind + width / 2)\n",
    "ax.set_xticklabels(('Organic Search', 'Direct', 'Referral', 'Display', 'Paid Search', 'Affiliates', 'Social'), rotation='vertical')\n",
    "\n",
    "ax.legend((day1_bars[0], day2_bars[0]), ('2017/07/31', '2017/08/01'))\n",
    "\n",
    "plt.show()"
   ]
  },
  {
   "cell_type": "markdown",
   "metadata": {},
   "source": [
    "#### Fourth Query: Finding repeat visitors for one day"
   ]
  },
  {
   "cell_type": "code",
   "execution_count": 10,
   "metadata": {},
   "outputs": [
    {
     "name": "stdout",
     "output_type": "stream",
     "text": [
      "           fullVisitorId  repeat_visitor\n",
      "0     581456539078455132               1\n",
      "1     903671600075470143               1\n",
      "2    8555003181225615424               1\n",
      "3    8497228714350538778               1\n",
      "4     296822863046398447               1\n",
      "..                   ...             ...\n",
      "679  8762707685667359248               1\n",
      "680  7825082949972548337               1\n",
      "681  2182591763226364361               1\n",
      "682  3884810646891698298               1\n",
      "683  3800266955937177725               1\n",
      "\n",
      "[684 rows x 2 columns]\n"
     ]
    }
   ],
   "source": [
    "q4 = '''\n",
    "     SELECT fullVisitorId,\n",
    "         COUNT(visitNumber)OVER(\n",
    "                                PARTITION BY visitId\n",
    "                                ORDER BY visitNumber DESC\n",
    "                                ROWS BETWEEN 1 PRECEDING AND CURRENT ROW\n",
    "                               )as repeat_visitor\n",
    "     FROM `bigquery-public-data.google_analytics_sample.ga_sessions_20170801`\n",
    "     WHERE visitNumber >= 2\n",
    "     '''\n",
    "\n",
    "safe_config = bigquery.QueryJobConfig(maximum_bytes_billed=10**10)\n",
    "q4_job = client.query(q4, job_config=safe_config)\n",
    "\n",
    "q4_results = q4_job.to_dataframe()\n",
    "\n",
    "print(q4_results)"
   ]
  },
  {
   "cell_type": "code",
   "execution_count": 11,
   "metadata": {
    "_kg_hide-input": true
   },
   "outputs": [
    {
     "data": {
      "image/png": "[encoded data removed]",
      "text/plain": [
       "<Figure size 360x360 with 1 Axes>"
      ]
     },
     "metadata": {},
     "output_type": "display_data"
    }
   ],
   "source": [
    "returning_visitors = 684\n",
    "new_visitors = 2556 - returning_visitors\n",
    "\n",
    "labels = ['Returning Visitor', 'New Visitor']\n",
    "data = [returning_visitors, new_visitors]\n",
    "\n",
    "plt.figure(figsize=(5,5))\n",
    "plt.pie(data, labels=labels, autopct='%1.1f%%', startangle=130)\n",
    "plt.title('Returning vs New Visitors (2017-08-01)')\n",
    "plt.axis('equal') \n",
    "\n",
    "plt.show()"
   ]
  },
  {
   "cell_type": "markdown",
   "metadata": {},
   "source": [
    "#### Fifth Query: Finding traffic sources with count larger than 10"
   ]
  },
  {
   "cell_type": "code",
   "execution_count": 12,
   "metadata": {},
   "outputs": [
    {
     "name": "stdout",
     "output_type": "stream",
     "text": [
      "SchemaField('trafficSource', 'RECORD', 'NULLABLE', None, (SchemaField('referralPath', 'STRING', 'NULLABLE', None, ()), SchemaField('campaign', 'STRING', 'NULLABLE', None, ()), SchemaField('source', 'STRING', 'NULLABLE', None, ()), SchemaField('medium', 'STRING', 'NULLABLE', None, ()), SchemaField('keyword', 'STRING', 'NULLABLE', None, ()), SchemaField('adContent', 'STRING', 'NULLABLE', None, ()), SchemaField('adwordsClickInfo', 'RECORD', 'NULLABLE', None, (SchemaField('campaignId', 'INTEGER', 'NULLABLE', None, ()), SchemaField('adGroupId', 'INTEGER', 'NULLABLE', None, ()), SchemaField('creativeId', 'INTEGER', 'NULLABLE', None, ()), SchemaField('criteriaId', 'INTEGER', 'NULLABLE', None, ()), SchemaField('page', 'INTEGER', 'NULLABLE', None, ()), SchemaField('slot', 'STRING', 'NULLABLE', None, ()), SchemaField('criteriaParameters', 'STRING', 'NULLABLE', None, ()), SchemaField('gclId', 'STRING', 'NULLABLE', None, ()), SchemaField('customerId', 'INTEGER', 'NULLABLE', None, ()), SchemaField('adNetworkType', 'STRING', 'NULLABLE', None, ()), SchemaField('targetingCriteria', 'RECORD', 'NULLABLE', None, (SchemaField('boomUserlistId', 'INTEGER', 'NULLABLE', None, ()),)), SchemaField('isVideoAd', 'BOOLEAN', 'NULLABLE', None, ()))), SchemaField('isTrueDirect', 'BOOLEAN', 'NULLABLE', None, ()), SchemaField('campaignCode', 'STRING', 'NULLABLE', None, ())))\n"
     ]
    }
   ],
   "source": [
    "print(last_table.schema[6])"
   ]
  },
  {
   "cell_type": "code",
   "execution_count": 13,
   "metadata": {},
   "outputs": [
    {
     "name": "stdout",
     "output_type": "stream",
     "text": [
      "                 source  counts\n",
      "0              (direct)    2166\n",
      "1           youtube.com     180\n",
      "2  analytics.google.com      57\n",
      "3              Partners      52\n",
      "4                   dfa      15\n",
      "5            google.com      12\n"
     ]
    }
   ],
   "source": [
    "q5 = '''\n",
    "     SELECT trafficSource.source AS source, COUNT(trafficSource) as counts\n",
    "     FROM `bigquery-public-data.google_analytics_sample.ga_sessions_20170801`\n",
    "     GROUP BY source\n",
    "     HAVING counts >= 10\n",
    "     ORDER BY counts DESC\n",
    "     '''\n",
    "\n",
    "safe_config = bigquery.QueryJobConfig(maximum_bytes_billed=10**10)\n",
    "q5_job = client.query(q5, job_config=safe_config)\n",
    "\n",
    "q5_results = q5_job.to_dataframe()\n",
    "\n",
    "print(q5_results)"
   ]
  },
  {
   "cell_type": "code",
   "execution_count": 14,
   "metadata": {
    "_kg_hide-input": true
   },
   "outputs": [
    {
     "data": {
      "image/png": "[encoded data removed]",
      "text/plain": [
       "<Figure size 936x180 with 1 Axes>"
      ]
     },
     "metadata": {
      "needs_background": "light"
     },
     "output_type": "display_data"
    }
   ],
   "source": [
    "category_names = q5_results['source']\n",
    "results = {\n",
    "    'counts': q5_results['counts']\n",
    "          }\n",
    "\n",
    "\n",
    "def survey(results, category_names):\n",
    "   \n",
    "    labels = list(results.keys())\n",
    "    data = np.array(list(results.values()))\n",
    "    data_cum = data.cumsum(axis=1)\n",
    "    category_colors = plt.get_cmap('RdYlGn')(\n",
    "        np.linspace(0.15, 0.85, data.shape[1]))\n",
    "\n",
    "    fig, ax = plt.subplots(figsize=(13, 2.5))\n",
    "    ax.invert_yaxis()\n",
    "    ax.xaxis.set_visible(False)\n",
    "    ax.set_xlim(0, np.sum(data, axis=1).max())\n",
    "\n",
    "    for i, (colname, color) in enumerate(zip(category_names, category_colors)):\n",
    "        widths = data[:, i]\n",
    "        starts = data_cum[:, i] - widths\n",
    "        ax.barh(labels, widths, left=starts, height=0.5,\n",
    "                label=colname, color=color)\n",
    "        xcenters = starts + widths / 2\n",
    "\n",
    "    ax.legend(ncol=len(category_names), bbox_to_anchor=(0, 1),\n",
    "              loc='lower left', fontsize='large')\n",
    "\n",
    "    return fig, ax\n",
    "\n",
    "\n",
    "survey(results, category_names)\n",
    "plt.show()"
   ]
  },
  {
   "cell_type": "code",
   "execution_count": 15,
   "metadata": {},
   "outputs": [
    {
     "name": "stdout",
     "output_type": "stream",
     "text": [
      "0                (direct)\n",
      "1             youtube.com\n",
      "2    analytics.google.com\n",
      "3                Partners\n",
      "4                     dfa\n",
      "5              google.com\n",
      "Name: source, dtype: object\n"
     ]
    }
   ],
   "source": [
    "print(category_names)"
   ]
  },
  {
   "cell_type": "markdown",
   "metadata": {},
   "source": [
    "#### Sixth Query: Finding total visits per hour of day"
   ]
  },
  {
   "cell_type": "code",
   "execution_count": 16,
   "metadata": {},
   "outputs": [
    {
     "name": "stdout",
     "output_type": "stream",
     "text": [
      "SchemaField('totals', 'RECORD', 'NULLABLE', None, (SchemaField('visits', 'INTEGER', 'NULLABLE', None, ()), SchemaField('hits', 'INTEGER', 'NULLABLE', None, ()), SchemaField('pageviews', 'INTEGER', 'NULLABLE', None, ()), SchemaField('timeOnSite', 'INTEGER', 'NULLABLE', None, ()), SchemaField('bounces', 'INTEGER', 'NULLABLE', None, ()), SchemaField('transactions', 'INTEGER', 'NULLABLE', None, ()), SchemaField('transactionRevenue', 'INTEGER', 'NULLABLE', None, ()), SchemaField('newVisits', 'INTEGER', 'NULLABLE', None, ()), SchemaField('screenviews', 'INTEGER', 'NULLABLE', None, ()), SchemaField('uniqueScreenviews', 'INTEGER', 'NULLABLE', None, ()), SchemaField('timeOnScreen', 'INTEGER', 'NULLABLE', None, ()), SchemaField('totalTransactionRevenue', 'INTEGER', 'NULLABLE', None, ()), SchemaField('sessionQualityDim', 'INTEGER', 'NULLABLE', None, ())))\n"
     ]
    }
   ],
   "source": [
    "print(last_table.schema[5])"
   ]
  },
  {
   "cell_type": "code",
   "execution_count": 17,
   "metadata": {},
   "outputs": [
    {
     "name": "stdout",
     "output_type": "stream",
     "text": [
      "SchemaField('hits', 'RECORD', 'REPEATED', None, (SchemaField('hitNumber', 'INTEGER', 'NULLABLE', None, ()), SchemaField('time', 'INTEGER', 'NULLABLE', None, ()), SchemaField('hour', 'INTEGER', 'NULLABLE', None, ()), SchemaField('minute', 'INTEGER', 'NULLABLE', None, ()), SchemaField('isSecure', 'BOOLEAN', 'NULLABLE', None, ()), SchemaField('isInteraction', 'BOOLEAN', 'NULLABLE', None, ()), SchemaField('isEntrance', 'BOOLEAN', 'NULLABLE', None, ()), SchemaField('isExit', 'BOOLEAN', 'NULLABLE', None, ()), SchemaField('referer', 'STRING', 'NULLABLE', None, ()), SchemaField('page', 'RECORD', 'NULLABLE', None, (SchemaField('pagePath', 'STRING', 'NULLABLE', None, ()), SchemaField('hostname', 'STRING', 'NULLABLE', None, ()), SchemaField('pageTitle', 'STRING', 'NULLABLE', None, ()), SchemaField('searchKeyword', 'STRING', 'NULLABLE', None, ()), SchemaField('searchCategory', 'STRING', 'NULLABLE', None, ()), SchemaField('pagePathLevel1', 'STRING', 'NULLABLE', None, ()), SchemaField('pagePathLevel2', 'STRING', 'NULLABLE', None, ()), SchemaField('pagePathLevel3', 'STRING', 'NULLABLE', None, ()), SchemaField('pagePathLevel4', 'STRING', 'NULLABLE', None, ()))), SchemaField('transaction', 'RECORD', 'NULLABLE', None, (SchemaField('transactionId', 'STRING', 'NULLABLE', None, ()), SchemaField('transactionRevenue', 'INTEGER', 'NULLABLE', None, ()), SchemaField('transactionTax', 'INTEGER', 'NULLABLE', None, ()), SchemaField('transactionShipping', 'INTEGER', 'NULLABLE', None, ()), SchemaField('affiliation', 'STRING', 'NULLABLE', None, ()), SchemaField('currencyCode', 'STRING', 'NULLABLE', None, ()), SchemaField('localTransactionRevenue', 'INTEGER', 'NULLABLE', None, ()), SchemaField('localTransactionTax', 'INTEGER', 'NULLABLE', None, ()), SchemaField('localTransactionShipping', 'INTEGER', 'NULLABLE', None, ()), SchemaField('transactionCoupon', 'STRING', 'NULLABLE', None, ()))), SchemaField('item', 'RECORD', 'NULLABLE', None, (SchemaField('transactionId', 'STRING', 'NULLABLE', None, ()), SchemaField('productName', 'STRING', 'NULLABLE', None, ()), SchemaField('productCategory', 'STRING', 'NULLABLE', None, ()), SchemaField('productSku', 'STRING', 'NULLABLE', None, ()), SchemaField('itemQuantity', 'INTEGER', 'NULLABLE', None, ()), SchemaField('itemRevenue', 'INTEGER', 'NULLABLE', None, ()), SchemaField('currencyCode', 'STRING', 'NULLABLE', None, ()), SchemaField('localItemRevenue', 'INTEGER', 'NULLABLE', None, ()))), SchemaField('contentInfo', 'RECORD', 'NULLABLE', None, (SchemaField('contentDescription', 'STRING', 'NULLABLE', None, ()),)), SchemaField('appInfo', 'RECORD', 'NULLABLE', None, (SchemaField('name', 'STRING', 'NULLABLE', None, ()), SchemaField('version', 'STRING', 'NULLABLE', None, ()), SchemaField('id', 'STRING', 'NULLABLE', None, ()), SchemaField('installerId', 'STRING', 'NULLABLE', None, ()), SchemaField('appInstallerId', 'STRING', 'NULLABLE', None, ()), SchemaField('appName', 'STRING', 'NULLABLE', None, ()), SchemaField('appVersion', 'STRING', 'NULLABLE', None, ()), SchemaField('appId', 'STRING', 'NULLABLE', None, ()), SchemaField('screenName', 'STRING', 'NULLABLE', None, ()), SchemaField('landingScreenName', 'STRING', 'NULLABLE', None, ()), SchemaField('exitScreenName', 'STRING', 'NULLABLE', None, ()), SchemaField('screenDepth', 'STRING', 'NULLABLE', None, ()))), SchemaField('exceptionInfo', 'RECORD', 'NULLABLE', None, (SchemaField('description', 'STRING', 'NULLABLE', None, ()), SchemaField('isFatal', 'BOOLEAN', 'NULLABLE', None, ()), SchemaField('exceptions', 'INTEGER', 'NULLABLE', None, ()), SchemaField('fatalExceptions', 'INTEGER', 'NULLABLE', None, ()))), SchemaField('eventInfo', 'RECORD', 'NULLABLE', None, (SchemaField('eventCategory', 'STRING', 'NULLABLE', None, ()), SchemaField('eventAction', 'STRING', 'NULLABLE', None, ()), SchemaField('eventLabel', 'STRING', 'NULLABLE', None, ()), SchemaField('eventValue', 'INTEGER', 'NULLABLE', None, ()))), SchemaField('product', 'RECORD', 'REPEATED', None, (SchemaField('productSKU', 'STRING', 'NULLABLE', None, ()), SchemaField('v2ProductName', 'STRING', 'NULLABLE', None, ()), SchemaField('v2ProductCategory', 'STRING', 'NULLABLE', None, ()), SchemaField('productVariant', 'STRING', 'NULLABLE', None, ()), SchemaField('productBrand', 'STRING', 'NULLABLE', None, ()), SchemaField('productRevenue', 'INTEGER', 'NULLABLE', None, ()), SchemaField('localProductRevenue', 'INTEGER', 'NULLABLE', None, ()), SchemaField('productPrice', 'INTEGER', 'NULLABLE', None, ()), SchemaField('localProductPrice', 'INTEGER', 'NULLABLE', None, ()), SchemaField('productQuantity', 'INTEGER', 'NULLABLE', None, ()), SchemaField('productRefundAmount', 'INTEGER', 'NULLABLE', None, ()), SchemaField('localProductRefundAmount', 'INTEGER', 'NULLABLE', None, ()), SchemaField('isImpression', 'BOOLEAN', 'NULLABLE', None, ()), SchemaField('isClick', 'BOOLEAN', 'NULLABLE', None, ()), SchemaField('customDimensions', 'RECORD', 'REPEATED', None, (SchemaField('index', 'INTEGER', 'NULLABLE', None, ()), SchemaField('value', 'STRING', 'NULLABLE', None, ()))), SchemaField('customMetrics', 'RECORD', 'REPEATED', None, (SchemaField('index', 'INTEGER', 'NULLABLE', None, ()), SchemaField('value', 'INTEGER', 'NULLABLE', None, ()))), SchemaField('productListName', 'STRING', 'NULLABLE', None, ()), SchemaField('productListPosition', 'INTEGER', 'NULLABLE', None, ()), SchemaField('productCouponCode', 'STRING', 'NULLABLE', None, ()))), SchemaField('promotion', 'RECORD', 'REPEATED', None, (SchemaField('promoId', 'STRING', 'NULLABLE', None, ()), SchemaField('promoName', 'STRING', 'NULLABLE', None, ()), SchemaField('promoCreative', 'STRING', 'NULLABLE', None, ()), SchemaField('promoPosition', 'STRING', 'NULLABLE', None, ()))), SchemaField('promotionActionInfo', 'RECORD', 'NULLABLE', None, (SchemaField('promoIsView', 'BOOLEAN', 'NULLABLE', None, ()), SchemaField('promoIsClick', 'BOOLEAN', 'NULLABLE', None, ()))), SchemaField('refund', 'RECORD', 'NULLABLE', None, (SchemaField('refundAmount', 'INTEGER', 'NULLABLE', None, ()), SchemaField('localRefundAmount', 'INTEGER', 'NULLABLE', None, ()))), SchemaField('eCommerceAction', 'RECORD', 'NULLABLE', None, (SchemaField('action_type', 'STRING', 'NULLABLE', None, ()), SchemaField('step', 'INTEGER', 'NULLABLE', None, ()), SchemaField('option', 'STRING', 'NULLABLE', None, ()))), SchemaField('experiment', 'RECORD', 'REPEATED', None, (SchemaField('experimentId', 'STRING', 'NULLABLE', None, ()), SchemaField('experimentVariant', 'STRING', 'NULLABLE', None, ()))), SchemaField('publisher', 'RECORD', 'NULLABLE', None, (SchemaField('dfpClicks', 'INTEGER', 'NULLABLE', None, ()), SchemaField('dfpImpressions', 'INTEGER', 'NULLABLE', None, ()), SchemaField('dfpMatchedQueries', 'INTEGER', 'NULLABLE', None, ()), SchemaField('dfpMeasurableImpressions', 'INTEGER', 'NULLABLE', None, ()), SchemaField('dfpQueries', 'INTEGER', 'NULLABLE', None, ()), SchemaField('dfpRevenueCpm', 'INTEGER', 'NULLABLE', None, ()), SchemaField('dfpRevenueCpc', 'INTEGER', 'NULLABLE', None, ()), SchemaField('dfpViewableImpressions', 'INTEGER', 'NULLABLE', None, ()), SchemaField('dfpPagesViewed', 'INTEGER', 'NULLABLE', None, ()), SchemaField('adsenseBackfillDfpClicks', 'INTEGER', 'NULLABLE', None, ()), SchemaField('adsenseBackfillDfpImpressions', 'INTEGER', 'NULLABLE', None, ()), SchemaField('adsenseBackfillDfpMatchedQueries', 'INTEGER', 'NULLABLE', None, ()), SchemaField('adsenseBackfillDfpMeasurableImpressions', 'INTEGER', 'NULLABLE', None, ()), SchemaField('adsenseBackfillDfpQueries', 'INTEGER', 'NULLABLE', None, ()), SchemaField('adsenseBackfillDfpRevenueCpm', 'INTEGER', 'NULLABLE', None, ()), SchemaField('adsenseBackfillDfpRevenueCpc', 'INTEGER', 'NULLABLE', None, ()), SchemaField('adsenseBackfillDfpViewableImpressions', 'INTEGER', 'NULLABLE', None, ()), SchemaField('adsenseBackfillDfpPagesViewed', 'INTEGER', 'NULLABLE', None, ()), SchemaField('adxBackfillDfpClicks', 'INTEGER', 'NULLABLE', None, ()), SchemaField('adxBackfillDfpImpressions', 'INTEGER', 'NULLABLE', None, ()), SchemaField('adxBackfillDfpMatchedQueries', 'INTEGER', 'NULLABLE', None, ()), SchemaField('adxBackfillDfpMeasurableImpressions', 'INTEGER', 'NULLABLE', None, ()), SchemaField('adxBackfillDfpQueries', 'INTEGER', 'NULLABLE', None, ()), SchemaField('adxBackfillDfpRevenueCpm', 'INTEGER', 'NULLABLE', None, ()), SchemaField('adxBackfillDfpRevenueCpc', 'INTEGER', 'NULLABLE', None, ()), SchemaField('adxBackfillDfpViewableImpressions', 'INTEGER', 'NULLABLE', None, ()), SchemaField('adxBackfillDfpPagesViewed', 'INTEGER', 'NULLABLE', None, ()), SchemaField('adxClicks', 'INTEGER', 'NULLABLE', None, ()), SchemaField('adxImpressions', 'INTEGER', 'NULLABLE', None, ()), SchemaField('adxMatchedQueries', 'INTEGER', 'NULLABLE', None, ()), SchemaField('adxMeasurableImpressions', 'INTEGER', 'NULLABLE', None, ()), SchemaField('adxQueries', 'INTEGER', 'NULLABLE', None, ()), SchemaField('adxRevenue', 'INTEGER', 'NULLABLE', None, ()), SchemaField('adxViewableImpressions', 'INTEGER', 'NULLABLE', None, ()), SchemaField('adxPagesViewed', 'INTEGER', 'NULLABLE', None, ()), SchemaField('adsViewed', 'INTEGER', 'NULLABLE', None, ()), SchemaField('adsUnitsViewed', 'INTEGER', 'NULLABLE', None, ()), SchemaField('adsUnitsMatched', 'INTEGER', 'NULLABLE', None, ()), SchemaField('viewableAdsViewed', 'INTEGER', 'NULLABLE', None, ()), SchemaField('measurableAdsViewed', 'INTEGER', 'NULLABLE', None, ()), SchemaField('adsPagesViewed', 'INTEGER', 'NULLABLE', None, ()), SchemaField('adsClicked', 'INTEGER', 'NULLABLE', None, ()), SchemaField('adsRevenue', 'INTEGER', 'NULLABLE', None, ()), SchemaField('dfpAdGroup', 'STRING', 'NULLABLE', None, ()), SchemaField('dfpAdUnits', 'STRING', 'NULLABLE', None, ()), SchemaField('dfpNetworkId', 'STRING', 'NULLABLE', None, ()))), SchemaField('customVariables', 'RECORD', 'REPEATED', None, (SchemaField('index', 'INTEGER', 'NULLABLE', None, ()), SchemaField('customVarName', 'STRING', 'NULLABLE', None, ()), SchemaField('customVarValue', 'STRING', 'NULLABLE', None, ()))), SchemaField('customDimensions', 'RECORD', 'REPEATED', None, (SchemaField('index', 'INTEGER', 'NULLABLE', None, ()), SchemaField('value', 'STRING', 'NULLABLE', None, ()))), SchemaField('customMetrics', 'RECORD', 'REPEATED', None, (SchemaField('index', 'INTEGER', 'NULLABLE', None, ()), SchemaField('value', 'INTEGER', 'NULLABLE', None, ()))), SchemaField('type', 'STRING', 'NULLABLE', None, ()), SchemaField('social', 'RECORD', 'NULLABLE', None, (SchemaField('socialInteractionNetwork', 'STRING', 'NULLABLE', None, ()), SchemaField('socialInteractionAction', 'STRING', 'NULLABLE', None, ()), SchemaField('socialInteractions', 'INTEGER', 'NULLABLE', None, ()), SchemaField('socialInteractionTarget', 'STRING', 'NULLABLE', None, ()), SchemaField('socialNetwork', 'STRING', 'NULLABLE', None, ()), SchemaField('uniqueSocialInteractions', 'INTEGER', 'NULLABLE', None, ()), SchemaField('hasSocialSourceReferral', 'STRING', 'NULLABLE', None, ()), SchemaField('socialInteractionNetworkAction', 'STRING', 'NULLABLE', None, ()))), SchemaField('latencyTracking', 'RECORD', 'NULLABLE', None, (SchemaField('pageLoadSample', 'INTEGER', 'NULLABLE', None, ()), SchemaField('pageLoadTime', 'INTEGER', 'NULLABLE', None, ()), SchemaField('pageDownloadTime', 'INTEGER', 'NULLABLE', None, ()), SchemaField('redirectionTime', 'INTEGER', 'NULLABLE', None, ()), SchemaField('speedMetricsSample', 'INTEGER', 'NULLABLE', None, ()), SchemaField('domainLookupTime', 'INTEGER', 'NULLABLE', None, ()), SchemaField('serverConnectionTime', 'INTEGER', 'NULLABLE', None, ()), SchemaField('serverResponseTime', 'INTEGER', 'NULLABLE', None, ()), SchemaField('domLatencyMetricsSample', 'INTEGER', 'NULLABLE', None, ()), SchemaField('domInteractiveTime', 'INTEGER', 'NULLABLE', None, ()), SchemaField('domContentLoadedTime', 'INTEGER', 'NULLABLE', None, ()), SchemaField('userTimingValue', 'INTEGER', 'NULLABLE', None, ()), SchemaField('userTimingSample', 'INTEGER', 'NULLABLE', None, ()), SchemaField('userTimingVariable', 'STRING', 'NULLABLE', None, ()), SchemaField('userTimingCategory', 'STRING', 'NULLABLE', None, ()), SchemaField('userTimingLabel', 'STRING', 'NULLABLE', None, ()))), SchemaField('sourcePropertyInfo', 'RECORD', 'NULLABLE', None, (SchemaField('sourcePropertyDisplayName', 'STRING', 'NULLABLE', None, ()), SchemaField('sourcePropertyTrackingId', 'STRING', 'NULLABLE', None, ()))), SchemaField('contentGroup', 'RECORD', 'NULLABLE', None, (SchemaField('contentGroup1', 'STRING', 'NULLABLE', None, ()), SchemaField('contentGroup2', 'STRING', 'NULLABLE', None, ()), SchemaField('contentGroup3', 'STRING', 'NULLABLE', None, ()), SchemaField('contentGroup4', 'STRING', 'NULLABLE', None, ()), SchemaField('contentGroup5', 'STRING', 'NULLABLE', None, ()), SchemaField('previousContentGroup1', 'STRING', 'NULLABLE', None, ()), SchemaField('previousContentGroup2', 'STRING', 'NULLABLE', None, ()), SchemaField('previousContentGroup3', 'STRING', 'NULLABLE', None, ()), SchemaField('previousContentGroup4', 'STRING', 'NULLABLE', None, ()), SchemaField('previousContentGroup5', 'STRING', 'NULLABLE', None, ()), SchemaField('contentGroupUniqueViews1', 'INTEGER', 'NULLABLE', None, ()), SchemaField('contentGroupUniqueViews2', 'INTEGER', 'NULLABLE', None, ()), SchemaField('contentGroupUniqueViews3', 'INTEGER', 'NULLABLE', None, ()), SchemaField('contentGroupUniqueViews4', 'INTEGER', 'NULLABLE', None, ()), SchemaField('contentGroupUniqueViews5', 'INTEGER', 'NULLABLE', None, ()))), SchemaField('dataSource', 'STRING', 'NULLABLE', None, ()), SchemaField('publisher_infos', 'RECORD', 'REPEATED', None, (SchemaField('dfpClicks', 'INTEGER', 'NULLABLE', None, ()), SchemaField('dfpImpressions', 'INTEGER', 'NULLABLE', None, ()), SchemaField('dfpMatchedQueries', 'INTEGER', 'NULLABLE', None, ()), SchemaField('dfpMeasurableImpressions', 'INTEGER', 'NULLABLE', None, ()), SchemaField('dfpQueries', 'INTEGER', 'NULLABLE', None, ()), SchemaField('dfpRevenueCpm', 'INTEGER', 'NULLABLE', None, ()), SchemaField('dfpRevenueCpc', 'INTEGER', 'NULLABLE', None, ()), SchemaField('dfpViewableImpressions', 'INTEGER', 'NULLABLE', None, ()), SchemaField('dfpPagesViewed', 'INTEGER', 'NULLABLE', None, ()), SchemaField('adsenseBackfillDfpClicks', 'INTEGER', 'NULLABLE', None, ()), SchemaField('adsenseBackfillDfpImpressions', 'INTEGER', 'NULLABLE', None, ()), SchemaField('adsenseBackfillDfpMatchedQueries', 'INTEGER', 'NULLABLE', None, ()), SchemaField('adsenseBackfillDfpMeasurableImpressions', 'INTEGER', 'NULLABLE', None, ()), SchemaField('adsenseBackfillDfpQueries', 'INTEGER', 'NULLABLE', None, ()), SchemaField('adsenseBackfillDfpRevenueCpm', 'INTEGER', 'NULLABLE', None, ()), SchemaField('adsenseBackfillDfpRevenueCpc', 'INTEGER', 'NULLABLE', None, ()), SchemaField('adsenseBackfillDfpViewableImpressions', 'INTEGER', 'NULLABLE', None, ()), SchemaField('adsenseBackfillDfpPagesViewed', 'INTEGER', 'NULLABLE', None, ()), SchemaField('adxBackfillDfpClicks', 'INTEGER', 'NULLABLE', None, ()), SchemaField('adxBackfillDfpImpressions', 'INTEGER', 'NULLABLE', None, ()), SchemaField('adxBackfillDfpMatchedQueries', 'INTEGER', 'NULLABLE', None, ()), SchemaField('adxBackfillDfpMeasurableImpressions', 'INTEGER', 'NULLABLE', None, ()), SchemaField('adxBackfillDfpQueries', 'INTEGER', 'NULLABLE', None, ()), SchemaField('adxBackfillDfpRevenueCpm', 'INTEGER', 'NULLABLE', None, ()), SchemaField('adxBackfillDfpRevenueCpc', 'INTEGER', 'NULLABLE', None, ()), SchemaField('adxBackfillDfpViewableImpressions', 'INTEGER', 'NULLABLE', None, ()), SchemaField('adxBackfillDfpPagesViewed', 'INTEGER', 'NULLABLE', None, ()), SchemaField('adxClicks', 'INTEGER', 'NULLABLE', None, ()), SchemaField('adxImpressions', 'INTEGER', 'NULLABLE', None, ()), SchemaField('adxMatchedQueries', 'INTEGER', 'NULLABLE', None, ()), SchemaField('adxMeasurableImpressions', 'INTEGER', 'NULLABLE', None, ()), SchemaField('adxQueries', 'INTEGER', 'NULLABLE', None, ()), SchemaField('adxRevenue', 'INTEGER', 'NULLABLE', None, ()), SchemaField('adxViewableImpressions', 'INTEGER', 'NULLABLE', None, ()), SchemaField('adxPagesViewed', 'INTEGER', 'NULLABLE', None, ()), SchemaField('adsViewed', 'INTEGER', 'NULLABLE', None, ()), SchemaField('adsUnitsViewed', 'INTEGER', 'NULLABLE', None, ()), SchemaField('adsUnitsMatched', 'INTEGER', 'NULLABLE', None, ()), SchemaField('viewableAdsViewed', 'INTEGER', 'NULLABLE', None, ()), SchemaField('measurableAdsViewed', 'INTEGER', 'NULLABLE', None, ()), SchemaField('adsPagesViewed', 'INTEGER', 'NULLABLE', None, ()), SchemaField('adsClicked', 'INTEGER', 'NULLABLE', None, ()), SchemaField('adsRevenue', 'INTEGER', 'NULLABLE', None, ()), SchemaField('dfpAdGroup', 'STRING', 'NULLABLE', None, ()), SchemaField('dfpAdUnits', 'STRING', 'NULLABLE', None, ()), SchemaField('dfpNetworkId', 'STRING', 'NULLABLE', None, ())))))\n"
     ]
    }
   ],
   "source": [
    "print(last_table.schema[10])"
   ]
  },
  {
   "cell_type": "code",
   "execution_count": 18,
   "metadata": {},
   "outputs": [
    {
     "name": "stdout",
     "output_type": "stream",
     "text": [
      "    hour  visits\n",
      "0      0     391\n",
      "1      1     229\n",
      "2      2     187\n",
      "3      3     174\n",
      "4      4     176\n",
      "5      5     341\n",
      "6      6     397\n",
      "7      7     588\n",
      "8      8     807\n",
      "9      9     751\n",
      "10    10     926\n",
      "11    11     745\n",
      "12    12     822\n",
      "13    13     778\n",
      "14    14    1129\n",
      "15    15     840\n",
      "16    16     596\n",
      "17    17     428\n",
      "18    18     556\n",
      "19    19     499\n",
      "20    20     451\n",
      "21    21     580\n",
      "22    22     503\n",
      "23    23     339\n"
     ]
    }
   ],
   "source": [
    "q6 = '''\n",
    "     SELECT hits.hour AS hour, SUM(totals.visits) AS visits\n",
    "     FROM `bigquery-public-data.google_analytics_sample.ga_sessions_20170801`, UNNEST(hits) AS hits\n",
    "     GROUP BY hour\n",
    "     ORDER BY hour\n",
    "     '''\n",
    "\n",
    "safe_config = bigquery.QueryJobConfig(maximum_bytes_billed=10**10)\n",
    "q6_job = client.query(q6, job_config=safe_config)\n",
    "\n",
    "q6_results = q6_job.to_dataframe()\n",
    "\n",
    "print(q6_results)"
   ]
  },
  {
   "cell_type": "code",
   "execution_count": 19,
   "metadata": {
    "_kg_hide-input": true
   },
   "outputs": [
    {
     "data": {
      "image/png": "[encoded data removed]",
      "text/plain": [
       "<Figure size 1080x720 with 1 Axes>"
      ]
     },
     "metadata": {
      "needs_background": "light"
     },
     "output_type": "display_data"
    }
   ],
   "source": [
    "x = q6_results['hour']\n",
    "y = q6_results['visits']\n",
    "\n",
    "plt.figure(figsize=(15,10))\n",
    "plt.bar(x, y, width=1)\n",
    "plt.title('Visits per Hour of Day')\n",
    "plt.xlabel('Hour')\n",
    "plt.xticks(q6_results.index, q6_results['hour'])\n",
    "plt.ylabel('Visits')\n",
    "\n",
    "\n",
    "plt.show()"
   ]
  },
  {
   "cell_type": "markdown",
   "metadata": {},
   "source": [
    "#### Seventh Query: Monthly device visits"
   ]
  },
  {
   "cell_type": "code",
   "execution_count": 20,
   "metadata": {},
   "outputs": [],
   "source": [
    "from time import time\n",
    "\n",
    "def show_amount_of_data_scanned(query):\n",
    "    dry_run_config = bigquery.QueryJobConfig(dry_run=True)\n",
    "    query_job = client.query(query, job_config=dry_run_config)\n",
    "    print('Data processed: {} GB'.format(round(query_job.total_bytes_processed / 10**9, 3)))\n",
    "    \n",
    "def show_time_to_run(query):\n",
    "    time_config = bigquery.QueryJobConfig(use_query_cache=False)\n",
    "    start = time()\n",
    "    query_result = client.query(query, job_config=time_config).result()\n",
    "    end = time()\n",
    "    print('Time to run: {} seconds'.format(round(end-start, 3)))"
   ]
  },
  {
   "cell_type": "code",
   "execution_count": 21,
   "metadata": {},
   "outputs": [
    {
     "name": "stdout",
     "output_type": "stream",
     "text": [
      "SchemaField('device', 'RECORD', 'NULLABLE', None, (SchemaField('browser', 'STRING', 'NULLABLE', None, ()), SchemaField('browserVersion', 'STRING', 'NULLABLE', None, ()), SchemaField('browserSize', 'STRING', 'NULLABLE', None, ()), SchemaField('operatingSystem', 'STRING', 'NULLABLE', None, ()), SchemaField('operatingSystemVersion', 'STRING', 'NULLABLE', None, ()), SchemaField('isMobile', 'BOOLEAN', 'NULLABLE', None, ()), SchemaField('mobileDeviceBranding', 'STRING', 'NULLABLE', None, ()), SchemaField('mobileDeviceModel', 'STRING', 'NULLABLE', None, ()), SchemaField('mobileInputSelector', 'STRING', 'NULLABLE', None, ()), SchemaField('mobileDeviceInfo', 'STRING', 'NULLABLE', None, ()), SchemaField('mobileDeviceMarketingName', 'STRING', 'NULLABLE', None, ()), SchemaField('flashVersion', 'STRING', 'NULLABLE', None, ()), SchemaField('javaEnabled', 'BOOLEAN', 'NULLABLE', None, ()), SchemaField('language', 'STRING', 'NULLABLE', None, ()), SchemaField('screenColors', 'STRING', 'NULLABLE', None, ()), SchemaField('screenResolution', 'STRING', 'NULLABLE', None, ()), SchemaField('deviceCategory', 'STRING', 'NULLABLE', None, ())))\n"
     ]
    }
   ],
   "source": [
    "print(last_table.schema[7])"
   ]
  },
  {
   "cell_type": "code",
   "execution_count": 22,
   "metadata": {},
   "outputs": [
    {
     "name": "stdout",
     "output_type": "stream",
     "text": [
      "        date   device  visits\n",
      "0   20170401  desktop    1420\n",
      "1   20170401   mobile     646\n",
      "2   20170401   tablet     104\n",
      "3   20170501  desktop    1706\n",
      "4   20170501   mobile     770\n",
      "5   20170501   tablet     112\n",
      "6   20170601  desktop    1972\n",
      "7   20170601   mobile     758\n",
      "8   20170601   tablet      96\n",
      "9   20170701  desktop     869\n",
      "10  20170701   mobile    1036\n",
      "11  20170701   tablet     143\n",
      "12  20170801  desktop    1742\n",
      "13  20170801   mobile     725\n",
      "14  20170801   tablet      89\n",
      "Data processed: 0.0 GB\n",
      "Time to run: 2.809 seconds\n"
     ]
    }
   ],
   "source": [
    "q7 = '''\n",
    "     SELECT date, august.device.deviceCategory AS device, SUM(august.totals.visits) AS visits\n",
    "     FROM `bigquery-public-data.google_analytics_sample.ga_sessions_20170801` AS august\n",
    "     GROUP BY date, device\n",
    "     UNION ALL\n",
    "     SELECT date, july.device.deviceCategory as device, SUM(july.totals.visits) as visits\n",
    "     FROM `bigquery-public-data.google_analytics_sample.ga_sessions_20170701` as july\n",
    "     GROUP BY date, device\n",
    "     UNION ALL\n",
    "     SELECT date, june.device.deviceCategory as device, SUM(june.totals.visits) as visits\n",
    "     FROM `bigquery-public-data.google_analytics_sample.ga_sessions_20170601` as june\n",
    "     GROUP BY date, device\n",
    "     UNION ALL\n",
    "     SELECT date, may.device.deviceCategory as device, SUM(may.totals.visits) as visits\n",
    "     FROM `bigquery-public-data.google_analytics_sample.ga_sessions_20170501` as may\n",
    "     GROUP BY date, device\n",
    "     UNION ALL\n",
    "     SELECT date, april.device.deviceCategory as device, SUM(april.totals.visits) as visits\n",
    "     FROM `bigquery-public-data.google_analytics_sample.ga_sessions_20170401` as april\n",
    "     GROUP BY date, device\n",
    "     ORDER BY date, device\n",
    "     '''\n",
    "\n",
    "safe_config = bigquery.QueryJobConfig(maximum_bytes_billed=10**10)\n",
    "q7_job = client.query(q7, job_config=safe_config)\n",
    "\n",
    "q7_results = q7_job.to_dataframe()\n",
    "\n",
    "print(q7_results)\n",
    "\n",
    "show_amount_of_data_scanned(q7)\n",
    "show_time_to_run(q7)"
   ]
  },
  {
   "cell_type": "code",
   "execution_count": 23,
   "metadata": {
    "_kg_hide-input": true
   },
   "outputs": [
    {
     "data": {
      "image/png": "[encoded data removed]",
      "text/plain": [
       "<Figure size 720x504 with 1 Axes>"
      ]
     },
     "metadata": {
      "needs_background": "light"
     },
     "output_type": "display_data"
    }
   ],
   "source": [
    "desktop = q7_results['visits'][0::3]\n",
    "mobile = q7_results['visits'][1::3]\n",
    "tablet = q7_results['visits'][2::3]\n",
    "x = ['April', 'May', 'June', 'July', 'August']\n",
    "\n",
    "y = np.vstack([tablet, mobile, desktop])\n",
    "\n",
    "labels = ['Tablet', 'Mobile', 'Desktop']\n",
    "\n",
    "plt.figure(figsize=(10,7))\n",
    "plt.stackplot(x, tablet, mobile, desktop, labels=labels)\n",
    "plt.title('Monthly Device Visits (2017)')\n",
    "plt.ylabel('Visits')\n",
    "plt.xlabel('Month')\n",
    "plt.legend(loc='upper left')\n",
    "plt.show()\n"
   ]
  }
 ],
 "metadata": {
  "kernelspec": {
   "display_name": "Python 3",
   "language": "python",
   "name": "python3"
  },
  "language_info": {
   "codemirror_mode": {
    "name": "ipython",
    "version": 3
   },
   "file_extension": ".py",
   "mimetype": "text/x-python",
   "name": "python",
   "nbconvert_exporter": "python",
   "pygments_lexer": "ipython3",
   "version": "3.7.3"
  }
 },
 "nbformat": 4,
 "nbformat_minor": 1
}
